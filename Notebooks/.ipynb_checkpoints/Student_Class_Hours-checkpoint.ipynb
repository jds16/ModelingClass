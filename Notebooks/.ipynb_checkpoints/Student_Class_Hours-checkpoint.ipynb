{
 "cells": [
  {
   "cell_type": "markdown",
   "metadata": {},
   "source": [
    "# How many hours to gain mastery of class material?\n",
    "\n",
    "[![Binder](https://mybinder.org/badge_logo.svg)](https://mybinder.org/v2/gh/jds16/ModelingClass/master)\n",
    "\n",
    "During the first week of each semester we attend our classes for the first time. The lecturer passes out a syllabus and possibly elaborates on the conent of the class and what they will expect of class work, homework and exams. Each student can gauge their familiarity with the material. In this first session, we will construct a simple model to evaluate how many hours per week are needed to attain either a minimum or sufficient amount of subject mastery. A student could use this model to gauge how much time they may need for each class on a weekly basis.\n",
    "\n",
    "## The model\n",
    "\n",
    "We assume that the student's mastery of a subject (*M*) depends on the total amount of time spent on the class. This total amount of time is based on both in class time (*I*) and time out of class studying (*O*). \n",
    "\n",
    "\\begin{equation}\\label{base_model}\\tag{1}\n",
    "M=I+O\n",
    "\\end{equation}\n",
    " \n",
    "For simplicity we assume that *O* relates to *I* by a scaling factor, *S*.\n",
    "\n",
    "\\begin{equation}\\label{outside_time}\\tag{2}\n",
    "O=IS\n",
    "\\end{equation}\n",
    "\n",
    "The larger *S*, the more out of class time the student will put in trying to master the material. Substituting Equation \\ref{base_model} into Equation \\ref{outside_time} we have \n",
    "\n",
    "\\begin{equation}\\label{mastery_time}\\tag{3}\n",
    "M=I+IS\n",
    "\\end{equation}\n",
    "\n",
    "We also assume that students more familiear with the material master it expoentially quicker than student unfamiliar with the material. To account for this in our model we add a familiarity exponent (*f*)\n",
    "\n",
    "\\begin{equation}\\label{model}\\tag{4}\n",
    "M=(I+IS)^f\n",
    "\\end{equation}\n",
    "\n",
    "We can determine what our familiarity scale will be. Let's simply use a scale of 1-10 to determine the student's familiarity. An average student has a familiarity of 5. If the student is more familiar with the material, the value increases. Students less familar have values less than 5. For illustrative purposes, let's assume that normal familiarity means the student's master grows at a one-to-one rate. Their mastery scales linearly with the amount of time they put into the class. For this to be true in our model, we will normalize *f* by 5. Our final model,then, is \n",
    "\n",
    "\\begin{equation}\\label{scaled_model}\\tag{5}\n",
    "M=(I+IS)^{\\frac{f}{5}}\n",
    "\\end{equation}\n",
    "\n",
    "The plot below shows the behavior of our model. The horizontal axis shows the parameter *S*. As a reminder, thats a proxy for how time the student will put in outside of class to master the material. The vertical axis shows how much mastery is the student attains by based on the amount of work they put in. Slide the bar and see how familiarity changes how much mastery is gained. "
   ]
  },
  {
   "cell_type": "markdown",
   "metadata": {},
   "source": [
    "## Analyzing and testing the model\n",
    "Does the model behave as you expect it would? Is it realistic? Is it good? Each of these questions are important. We would be wise to remember that the best models are useful and testable. Here we will look at what this predicts and how we could test those predictions. \n",
    "\n",
    "The first step we need to take is to quantify what mastery even means. Let's kind of leave it vague and squishy by defining total mastery and sufficient mastery. For total mastery we can take the age old rule that an average student typically spends about 3 hours studying outside of class for every one hour of class instruction. In this model, that would equate to $S=3$ for an average familiarity ($f=5$). Based on these factors, our model predicts a total of 12 hours for a 3 hour class. \n",
    "\n",
    "I'm not too sure what a sufficient mastery would amount to. Howeve, there is an important saying in the modeling world to remember when we don't knwo what to do: *just do something!* Besides, we are just looking to test our model anyways. So, let's arbitrarily say that sufficentient master equals 75% of total mastery. In this case our model predicts that we would need to put in a total of 9 hours each weak just to get by.\n",
    "\n",
    "Now, that's great that we have figured it out for the average case, but how do we proceed for the other cases? Using the criteria above of $S=3$ and $f=5$, our model predicts a total mastery ($M_T$) value of 12 and sufficient mastery ($M_S$) value of 9. Using this and an assumed familiarity we can solve for the amount of hours needed to attain either mastery ($T_i$) by rearranging Equation [5](#mjx-eqn-scaled_model)\n",
    "\n",
    "\\begin{equation}\\label{s_calc}\\tag{6}\n",
    "S_i = \\frac{M_i^\\frac{5}{f}}{I}-1\n",
    "\\end{equation}\n",
    "\n",
    "and then \n",
    "\n",
    "\\begin{equation}\\label{total_hours}\\tag{7}\n",
    "T_i = I(1+S_i)\n",
    "\\end{equation}\n",
    "\n",
    "Combining Equations \\ref{s_calc} and \\ref{total_hours} we get\n",
    "\n",
    "\\begin{equation}\\label{total_scaled}\\tag{8}\n",
    "T_i = M_i^\\frac{5}{f}\n",
    "\\end{equation}\n",
    "\n",
    "For testing purposes, we could calculate the predicted weekly study time for each familiarity. Then, at the end of the semester, we could survey students across campus asking simple questions such as *How familiar were you with the content of the class?* *How many hours did you study for the class?* and *How well did you master the material?* We could then compare the collected data to our model precidtions and begin assessing how well the model captured the problem at hand. If it worked well, we're done. Most likely, the data would reveal some surprise and we would adjust our model. It's key to remember that the true measure of a model's usefulness is how well its outputs measure up to the data. And, as a final note, remember that even if the model works extremely well, view it with caution. One can remember this by the old adage spoken by George Box, \"All models are wrong, but some are useful.\"\n",
    "\n",
    "Below is a tool where you can view the model behavior. The slide bar allows you to choose a Familiary value and calculate Mastery for different Scalar values as well as the the total weekly hours needed for a student to master the material."
   ]
  },
  {
   "cell_type": "code",
   "execution_count": 2,
   "metadata": {},
   "outputs": [],
   "source": [
    "import matplotlib.pyplot as plt\n",
    "import numpy as np\n",
    "from ipywidgets import interactive\n",
    "\n",
    "\n",
    "def class_choice_sliders(familiarity=5):\n",
    "\n",
    "    # fixed constants\n",
    "    in_class_hours=3\n",
    "    exponent = familiarity/5\n",
    "    calibration_constant=3\n",
    "    min_scale = 0.75\n",
    "\n",
    "    # parameter space\n",
    "    scalar = np.linspace(0,6,num=1000,endpoint=True)\n",
    "    \n",
    "    # calculations\n",
    "    mastery = (in_class_hours+in_class_hours*scalar)**exponent\n",
    "    sufficient = in_class_hours+in_class_hours*calibration_constant\n",
    "    print(sufficient)\n",
    "    minimum = (in_class_hours + in_class_hours*calibration_constant)**min_scale\n",
    "    \n",
    "    s_sufficient=(calibration_constant+1)**(1/exponent) * in_class_hours**(1/exponent-1) - 1\n",
    "    s_minimum= (calibration_constant+1)**(min_scale/exponent) * in_class_hours**(min_scale/exponent-1) - 1\n",
    "    sufficient_total_hours = in_class_hours+((calibration_constant+1)**(1/exponent) * in_class_hours**(1/exponent-1) - 1)*in_class_hours\n",
    "    minimum_total_hours = in_class_hours + ((calibration_constant+1)**(min_scale/exponent) * in_class_hours**(min_scale/exponent-1) - 1)*in_class_hours\n",
    "    \n",
    "    # visualize model \n",
    "    fig=plt.figure(figsize=[5,5])\n",
    "    ax=fig.add_subplot(111)\n",
    "    ax.plot(scalar, mastery, color='C0', label='Model')\n",
    "    ax.axhline(sufficient, color='C2')\n",
    "    ax.axhline(minimum,color='C1')\n",
    "    \n",
    "    if mastery[-1]>=sufficient:\n",
    "        string=str(round(sufficient_total_hours,1))+' hours per week'\n",
    "        if s_sufficient>=3:\n",
    "            ax.scatter(s_sufficient, sufficient, s=20, color='C2')\n",
    "            ax.text(0.25, sufficient+0.5, s=string, color='C2', fontsize=10)\n",
    "        else:\n",
    "            ax.scatter(s_sufficient, sufficient, s=20, color='C2')\n",
    "            ax.text(2.5, sufficient+0.5, s=string, color='C2', fontsize=10)\n",
    "    \n",
    "    if mastery[-1]>=minimum:\n",
    "        string=str(round(minimum_total_hours,1))+' hours per week'\n",
    "        if s_minimum>=2:\n",
    "            ax.scatter(s_minimum, minimum, s=20, color='C1')\n",
    "            ax.text(0.25, minimum+0.5, s=string, color='C1', fontsize=10)\n",
    "        else:\n",
    "            ax.scatter(s_minimum, minimum, s=20, color='C1')\n",
    "            ax.text(2.5, minimum+0.5, s=string, color='C1', fontsize=10)\n",
    "    \n",
    "    ax.set_xlabel('Scalar')\n",
    "    ax.set_ylabel('Mastery')\n",
    "    ax.set_xlim([scalar[0],scalar[-1]])\n",
    "    ax.set_ylim([0,15])\n",
    "    ax.axes.yaxis.set_ticks([])\n",
    "    ax.spines['right'].set_visible(False)\n",
    "    ax.spines['top'].set_visible(False)\n",
    "    #ax.legend(frameon=False, loc=4)\n",
    "    \n",
    "    ax.text(6.05, sufficient - 0.25, 'Total', color='C2')\n",
    "    ax.text(6.06, minimum - 0.25, 'Sufficient', color='C1')\n",
    "    \n",
    "    #fig.tight_layout()\n",
    "    \n",
    "    plt.show()"
   ]
  },
  {
   "cell_type": "code",
   "execution_count": 3,
   "metadata": {},
   "outputs": [
    {
     "data": {
      "application/vnd.jupyter.widget-view+json": {
       "model_id": "63f3743847dc461eae7000d76965c84d",
       "version_major": 2,
       "version_minor": 0
      },
      "text/plain": [
       "interactive(children=(IntSlider(value=5, description='familiarity', max=10, min=1), Output()), _dom_classes=('…"
      ]
     },
     "metadata": {},
     "output_type": "display_data"
    }
   ],
   "source": [
    "slider = interactive(class_choice_sliders, familiarity=(1, 10, 1))\n",
    "display(slider)"
   ]
  },
  {
   "cell_type": "code",
   "execution_count": null,
   "metadata": {},
   "outputs": [],
   "source": []
  },
  {
   "cell_type": "code",
   "execution_count": null,
   "metadata": {},
   "outputs": [],
   "source": []
  }
 ],
 "metadata": {
  "kernelspec": {
   "display_name": "Python 3",
   "language": "python",
   "name": "python3"
  },
  "language_info": {
   "codemirror_mode": {
    "name": "ipython",
    "version": 3
   },
   "file_extension": ".py",
   "mimetype": "text/x-python",
   "name": "python",
   "nbconvert_exporter": "python",
   "pygments_lexer": "ipython3",
   "version": "3.7.4"
  }
 },
 "nbformat": 4,
 "nbformat_minor": 4
}
