{
 "cells": [
  {
   "cell_type": "code",
   "execution_count": 21,
   "metadata": {
    "slideshow": {
     "slide_type": "skip"
    }
   },
   "outputs": [
    {
     "data": {
      "text/html": [
       "<script>\n",
       "code_show=true; \n",
       "function code_toggle() {\n",
       " if (code_show){\n",
       " $('div.input').hide();\n",
       " } else {\n",
       " $('div.input').show();\n",
       " }\n",
       " code_show = !code_show\n",
       "} \n",
       "$( document ).ready(code_toggle);\n",
       "</script>\n",
       "<form action=\"javascript:code_toggle()\"><input type=\"submit\" value=\"Click here to toggle on/off the raw code.\"></form>"
      ],
      "text/plain": [
       "<IPython.core.display.HTML object>"
      ]
     },
     "execution_count": 21,
     "metadata": {},
     "output_type": "execute_result"
    }
   ],
   "source": [
    "from IPython.display import HTML\n",
    "\n",
    "HTML('''<script>\n",
    "code_show=true; \n",
    "function code_toggle() {\n",
    " if (code_show){\n",
    " $('div.input').hide();\n",
    " } else {\n",
    " $('div.input').show();\n",
    " }\n",
    " code_show = !code_show\n",
    "} \n",
    "$( document ).ready(code_toggle);\n",
    "</script>\n",
    "<form action=\"javascript:code_toggle()\"><input type=\"submit\" value=\"Click here to toggle on/off the raw code.\"></form>''')"
   ]
  },
  {
   "cell_type": "code",
   "execution_count": 7,
   "metadata": {
    "slideshow": {
     "slide_type": "skip"
    }
   },
   "outputs": [],
   "source": [
    "import numpy as np\n",
    "import matplotlib.pyplot as plt\n",
    "from ipywidgets import interactive\n",
    "from matplotlib.ticker import (MultipleLocator, FormatStrFormatter,\n",
    "                               AutoMinorLocator)\n",
    "\n",
    "%matplotlib inline"
   ]
  },
  {
   "cell_type": "markdown",
   "metadata": {
    "slideshow": {
     "slide_type": "slide"
    }
   },
   "source": [
    "## The logistic equation\n",
    "\n",
    "[![Binder](https://mybinder.org/badge_logo.svg)](https://mybinder.org/v2/gh/jds16/ModelingClass/master)\n",
    "\n",
    "One of the simplest chaotic systems is the logistic map. Funtionally it is \n",
    "\n",
    "$$x_{n+1}=rx_n(1-x_n)$$\n",
    "\n",
    "where *r* is a parameter and *n* represents the number generations. The populations for each generation (*x*) of depends on the previous generation. For example, if we let *r=2* the function looks like. "
   ]
  },
  {
   "cell_type": "code",
   "execution_count": 8,
   "metadata": {
    "slideshow": {
     "slide_type": "slide"
    }
   },
   "outputs": [
    {
     "data": {
      "text/plain": [
       "Text(0, 0.5, '$x_{n+1}$')"
      ]
     },
     "execution_count": 8,
     "metadata": {},
     "output_type": "execute_result"
    },
    {
     "data": {
      "image/png": "[encoded data removed]",
      "text/plain": [
       "<Figure size 360x360 with 1 Axes>"
      ]
     },
     "metadata": {
      "needs_background": "light"
     },
     "output_type": "display_data"
    }
   ],
   "source": [
    "x1=np.linspace(0,1)\n",
    "r=2\n",
    "xi=0.1\n",
    "x2=2*x1*(1-x1)\n",
    "\n",
    "fig=plt.figure(figsize=[5,5])\n",
    "ax=fig.add_subplot(111)\n",
    "ax.plot(x1,x2)\n",
    "ax.set_xlim([x1[0],x1[-1]])\n",
    "ax.set_ylim([0,0.6])\n",
    "ax.set_xlabel(r'$x_n$')\n",
    "ax.set_ylabel(r'$x_{n+1}$')"
   ]
  },
  {
   "cell_type": "markdown",
   "metadata": {
    "slideshow": {
     "slide_type": "slide"
    }
   },
   "source": [
    "Given an initial condition, we can see how *x* varies as a function of time based on the value that *r* takes. Below is an example that allows you to set *r* to three different ranges and shows the first 20 generations. I have assigned an initial population of 10%."
   ]
  },
  {
   "cell_type": "code",
   "execution_count": 9,
   "metadata": {
    "slideshow": {
     "slide_type": "skip"
    }
   },
   "outputs": [],
   "source": [
    "def logistic(r, x):\n",
    "    return r * x * (1 - x)"
   ]
  },
  {
   "cell_type": "code",
   "execution_count": 10,
   "metadata": {
    "slideshow": {
     "slide_type": "skip"
    }
   },
   "outputs": [],
   "source": [
    "def plot_gens(r):\n",
    "    \n",
    "    gnum=50\n",
    "    \n",
    "    t=np.linspace(0,gnum,num=gnum+1,endpoint=True)\n",
    "    tnum=len(t)\n",
    "    x=np.zeros(tnum)\n",
    "    x[0]=0.1\n",
    "    \n",
    "    fig=plt.figure(figsize=[10,5])\n",
    "    ax=fig.add_subplot(121)\n",
    "    ax2=fig.add_subplot(122)\n",
    "    ax2.plot(x1, logistic(r, x1), 'k', lw=2)\n",
    "    ax2.plot([0, 1], [0, 1], 'k', lw=2)\n",
    "    \n",
    "    for i in range(tnum-1):\n",
    "        x[i+1]=logistic(r, x[i])\n",
    "        # Plot the two lines.\n",
    "        ax2.plot([x[i], x[i]], [x[i], x[i+1]], 'k', lw=1)\n",
    "        ax2.plot([x[i], x[i+1]], [x[i+1], x[i+1]], 'k', lw=1)\n",
    "        # Plot the positions with increasing\n",
    "        # opacity.\n",
    "        ax2.plot([x[i]], [x[i+1]], 'ok', ms=10,\n",
    "                alpha=(i + 1) / tnum)\n",
    "    \n",
    "    ax.plot(t, x, 'k')\n",
    "    ax.set_xlim([t[0], t[-1]])\n",
    "    ax.set_ylim([0,1])\n",
    "    ax.set_xlabel('Generation')\n",
    "    ax.set_ylabel('Population')\n",
    "    ax.xaxis.set_major_locator(MultipleLocator(20))\n",
    "    ax.xaxis.set_minor_locator(MultipleLocator(5))\n",
    "    \n",
    "    ax2.set_xlim(0, 1)\n",
    "    ax2.set_ylim(0, 1)\n",
    "    ax2.set_xlabel(r'$x_n$')\n",
    "    ax2.set_ylabel(r'$x_{n+1}$')\n",
    "\n",
    "    return"
   ]
  },
  {
   "cell_type": "code",
   "execution_count": 11,
   "metadata": {
    "slideshow": {
     "slide_type": "subslide"
    }
   },
   "outputs": [
    {
     "data": {
      "application/vnd.jupyter.widget-view+json": {
       "model_id": "cf98465efb074a99bfd44f6d7d171fb1",
       "version_major": 2,
       "version_minor": 0
      },
      "text/plain": [
       "interactive(children=(FloatSlider(value=2.0, description='r', max=4.0, min=1.0), Output()), _dom_classes=('wid…"
      ]
     },
     "metadata": {},
     "output_type": "display_data"
    }
   ],
   "source": [
    "slider = interactive(plot_gens, r=(1, 4, 0.1))\n",
    "display(slider)"
   ]
  },
  {
   "cell_type": "markdown",
   "metadata": {
    "slideshow": {
     "slide_type": "slide"
    }
   },
   "source": [
    "There is also a dependence on initial conditions. In the plot below, you can vary the value of (*r*), the initial condition (*IC*), and the percent difference between the first and second initial condition (*IC_PD*).  "
   ]
  },
  {
   "cell_type": "code",
   "execution_count": 12,
   "metadata": {
    "slideshow": {
     "slide_type": "skip"
    }
   },
   "outputs": [],
   "source": [
    "# add initial condition plot\n",
    "def plot_ics(r,IC_PD, IC):\n",
    "    \n",
    "    gnum=50\n",
    "    \n",
    "    xi=0.1\n",
    "    x2=2*x1*(1-x1)\n",
    "    \n",
    "    IC2=IC+IC*IC_PD/100\n",
    "    \n",
    "    t=np.linspace(0,gnum,num=gnum+1,endpoint=True)\n",
    "    tnum=len(t)\n",
    "    xic1=np.zeros(tnum)\n",
    "    xic1[0]=IC\n",
    "    xic2=np.zeros(tnum)\n",
    "    xic2[0]=IC2\n",
    "    #xic2[0]=0.11\n",
    "    \n",
    "    fig=plt.figure(figsize=[10,5])\n",
    "    ax=fig.add_subplot(121)\n",
    "    \n",
    "    for i in range(tnum-1):\n",
    "        xic1[i+1]=logistic(r, xic1[i])\n",
    "        xic2[i+1]=logistic(r, xic2[i])\n",
    "    \n",
    "    ax.plot(t, xic1, 'C0', label='IC1='+str(IC))\n",
    "    ax.plot(t, xic2, 'C1', label='IC2='+str(IC2))\n",
    "    ax.set_xlim([t[0], t[-1]])\n",
    "    ax.set_ylim([0,1])\n",
    "    ax.set_xlabel('Generation')\n",
    "    ax.set_ylabel('Population')\n",
    "    ax.xaxis.set_major_locator(MultipleLocator(20))\n",
    "    ax.xaxis.set_minor_locator(MultipleLocator(5))\n",
    "    ax.legend(frameon=False, loc=1)\n",
    "\n",
    "    return"
   ]
  },
  {
   "cell_type": "code",
   "execution_count": 13,
   "metadata": {
    "slideshow": {
     "slide_type": "subslide"
    }
   },
   "outputs": [
    {
     "data": {
      "application/vnd.jupyter.widget-view+json": {
       "model_id": "3a1d0e6ac48346b09b4625e788b29bbc",
       "version_major": 2,
       "version_minor": 0
      },
      "text/plain": [
       "interactive(children=(FloatSlider(value=2.0, description='r', max=4.0, min=1.0), FloatSlider(value=5.0, descri…"
      ]
     },
     "metadata": {},
     "output_type": "display_data"
    }
   ],
   "source": [
    "slideric = interactive(plot_ics, r=(1, 4, 0.1), IC=(0,1,0.01), IC_PD=(0,10,0.001))\n",
    "display(slideric)"
   ]
  },
  {
   "cell_type": "markdown",
   "metadata": {
    "slideshow": {
     "slide_type": "slide"
    }
   },
   "source": [
    "As an aside, we can prove to ourselves that although these systems may look random, they are not. In the plot below on the left, you can see the logistic equation and a random equation plotted against each other. Use the slider to vary *r* and *IC*."
   ]
  },
  {
   "cell_type": "code",
   "execution_count": 22,
   "metadata": {
    "slideshow": {
     "slide_type": "skip"
    }
   },
   "outputs": [],
   "source": [
    "# add noise plot\n",
    "# add initial condition plot\n",
    "def plot_noise(r, IC):\n",
    "    \n",
    "    gnum=1000\n",
    "    \n",
    "    t=np.linspace(0,gnum,num=gnum+1,endpoint=True)\n",
    "    tnum=len(t)\n",
    "    xic1=np.zeros(tnum)\n",
    "    xic1[0]=IC\n",
    "    \n",
    "    fig=plt.figure(figsize=[10,5])\n",
    "    ax=fig.add_subplot(121)\n",
    "    ax2=fig.add_subplot(122)\n",
    "    a=np.random.random(1000)\n",
    "    \n",
    "    for i in range(tnum-1):\n",
    "        xic1[i+1]=logistic(r, xic1[i])\n",
    "    \n",
    "    ax.plot(t[-100:], xic1[-100:], 'C0', label='Deterministic')\n",
    "    ax.plot(t[-100:], a[-100:], 'C1', label='Random')\n",
    "    ax.set_xlim([t[-100], t[-1]])\n",
    "    ax.set_ylim([0,1])\n",
    "    ax.set_xlabel('Generation')\n",
    "    ax.set_ylabel('Population')\n",
    "    ax.xaxis.set_major_locator(MultipleLocator(20))\n",
    "    ax.xaxis.set_minor_locator(MultipleLocator(5))\n",
    "    ax.legend(frameon=False, loc=1)\n",
    "\n",
    "    ax2.scatter(xic1[-101:-1], xic1[-100:],s=10, color='C0', label='Deterministic')\n",
    "    ax2.scatter(a[-101:-1], a[-100:],s=10, color='C1', label='Random')\n",
    "    ax2.set_xlim([0,1])\n",
    "    ax2.set_ylim([0,1])\n",
    "    ax2.set_xlabel('Population (n)')\n",
    "    ax2.set_ylabel('Population (n+1)')\n",
    "    ax2.xaxis.set_major_locator(MultipleLocator(20))\n",
    "    ax2.xaxis.set_minor_locator(MultipleLocator(5))\n",
    "    ax2.legend(frameon=True, loc=8)\n",
    "    \n",
    "    return\n",
    "\n",
    "# add poincare map"
   ]
  },
  {
   "cell_type": "code",
   "execution_count": 15,
   "metadata": {
    "slideshow": {
     "slide_type": "subslide"
    }
   },
   "outputs": [
    {
     "data": {
      "application/vnd.jupyter.widget-view+json": {
       "model_id": "c24850a03c9e47478563cd70cea6eb64",
       "version_major": 2,
       "version_minor": 0
      },
      "text/plain": [
       "interactive(children=(FloatSlider(value=3.25, description='r', max=4.0, min=2.5, step=0.001), FloatSlider(valu…"
      ]
     },
     "metadata": {},
     "output_type": "display_data"
    }
   ],
   "source": [
    "slider_noise = interactive(plot_noise, r=(2.5, 4, 0.001), IC=(0,1,0.01))\n",
    "display(slider_noise)"
   ]
  },
  {
   "cell_type": "markdown",
   "metadata": {
    "slideshow": {
     "slide_type": "slide"
    }
   },
   "source": [
    "The value of *r* is set by the *r_min* slider. The determinsitic equation shows the final 100 generations of 1000 total generations. On the right, we see the last 100 generations for a range of *r*. "
   ]
  },
  {
   "cell_type": "code",
   "execution_count": 23,
   "metadata": {
    "slideshow": {
     "slide_type": "skip"
    }
   },
   "outputs": [],
   "source": [
    "# add noise plot\n",
    "# add initial condition plot\n",
    "def plot_pmap(rmin, rmax, rnum, IC):\n",
    "    \n",
    "    if rmin>rmax:\n",
    "        rmini=rmin\n",
    "        rmin=rmax\n",
    "        rmax=rmini\n",
    "    \n",
    "    gnum=1000\n",
    "    \n",
    "    evenly_spaced_interval = np.linspace(0, 1, rnum)\n",
    "    colors = [plt.cm.viridis(x) for x in evenly_spaced_interval]\n",
    "    \n",
    "    rvals=np.linspace(rmin, rmax, num=rnum, endpoint=True)\n",
    "    \n",
    "    t=np.linspace(0,gnum,num=gnum+1,endpoint=True)\n",
    "    tnum=len(t)\n",
    "    xic1=np.zeros( (rnum, tnum) )\n",
    "    xic1[:,0]=IC\n",
    "    \n",
    "    fig=plt.figure(figsize=[10,5])\n",
    "    ax=fig.add_subplot(121)\n",
    "    \n",
    "    for i in range(rnum):\n",
    "        for j in range(tnum-1):\n",
    "            xic1[i,j+1]=logistic(rvals[i], xic1[i,j])\n",
    "    \n",
    "        ax.scatter(xic1[i,-101:-1], xic1[i,-100:],s=10, color=colors[i])\n",
    "    \n",
    "    ax.set_xlim([0,1])\n",
    "    ax.set_ylim([0,1])\n",
    "    ax.set_xlabel('Population (n)')\n",
    "    ax.set_ylabel('Population (n+1)')\n",
    "    ax.xaxis.set_major_locator(MultipleLocator(20))\n",
    "    ax.xaxis.set_minor_locator(MultipleLocator(5))\n",
    "    \n",
    "    return\n",
    "\n",
    "# add poincare map"
   ]
  },
  {
   "cell_type": "code",
   "execution_count": 24,
   "metadata": {
    "slideshow": {
     "slide_type": "subslide"
    }
   },
   "outputs": [
    {
     "data": {
      "application/vnd.jupyter.widget-view+json": {
       "model_id": "6cfd1cf773fb477a8676b5b1ae002910",
       "version_major": 2,
       "version_minor": 0
      },
      "text/plain": [
       "interactive(children=(FloatSlider(value=3.25, description='rmin', max=4.0, min=2.5, step=0.001), FloatSlider(v…"
      ]
     },
     "metadata": {},
     "output_type": "display_data"
    }
   ],
   "source": [
    "slider_pcp = interactive(plot_pmap, rmin=(2.5, 4, 0.001), rmax=(2.5, 4, 0.001), rnum=(1,10,1), IC=(0,1,0.01))\n",
    "display(slider_pcp)"
   ]
  },
  {
   "cell_type": "markdown",
   "metadata": {
    "slideshow": {
     "slide_type": "slide"
    }
   },
   "source": [
    "As we increase *r* the population does not settle down to a single value. We can view this using a bifurcation diagram as well to gain more insight into the dynamics. Below you can create a bifurcation diagram for $2.5<=r<=4$. The slider below allows you to set the x-axis minimum."
   ]
  },
  {
   "cell_type": "code",
   "execution_count": 25,
   "metadata": {
    "slideshow": {
     "slide_type": "skip"
    }
   },
   "outputs": [],
   "source": [
    "def bifurcation_plot(xmin, xmax):\n",
    "    \n",
    "    if xmin>xmax:\n",
    "        xmini=xmin\n",
    "        xmin=xmax\n",
    "        xmax=xmini\n",
    "    \n",
    "    n = 10000\n",
    "    r = np.linspace(xmin, 4.0, n)\n",
    "\n",
    "    iterations = 1000\n",
    "    last = 100\n",
    "\n",
    "    #x = 1e-5 * np.ones(n)\n",
    "    x = 0.5 * np.ones(n)\n",
    "\n",
    "    lyapunov = np.zeros(n)\n",
    "\n",
    "    fig, ax1 = plt.subplots(1, 1, figsize=(8, 4),\n",
    "                                   sharex=True)\n",
    "    for i in range(iterations):\n",
    "        x = logistic(r, x)\n",
    "        # We display the bifurcation diagram.\n",
    "        if i >= (iterations - last):\n",
    "            ax1.plot(r, x, ',k', alpha=.25)\n",
    "    #ax1.set_xlim(2.5, 4)\n",
    "    ax1.set_title(\"Bifurcation diagram\")\n",
    "    ax1.set_xlim([xmin, xmax])\n",
    "\n",
    "    plt.tight_layout()\n",
    "    \n",
    "    return"
   ]
  },
  {
   "cell_type": "code",
   "execution_count": 27,
   "metadata": {
    "slideshow": {
     "slide_type": "subslide"
    }
   },
   "outputs": [
    {
     "data": {
      "application/vnd.jupyter.widget-view+json": {
       "model_id": "0c0e63bb80aa4ebe8af93d27f1bfd4cc",
       "version_major": 2,
       "version_minor": 0
      },
      "text/plain": [
       "interactive(children=(FloatSlider(value=3.25, description='xmin', max=4.0, min=2.5, step=0.001), FloatSlider(v…"
      ]
     },
     "metadata": {},
     "output_type": "display_data"
    }
   ],
   "source": [
    "slider2 = interactive(bifurcation_plot, xmin=(2.5, 4, 0.001), xmax=(2.5, 4, 0.001))\n",
    "display(slider2)"
   ]
  },
  {
   "cell_type": "code",
   "execution_count": 20,
   "metadata": {
    "slideshow": {
     "slide_type": "skip"
    }
   },
   "outputs": [],
   "source": [
    "# add lyaponov "
   ]
  },
  {
   "cell_type": "markdown",
   "metadata": {
    "slideshow": {
     "slide_type": "slide"
    }
   },
   "source": [
    "## References\n",
    "[IPython Interactive Computing and Visualization Cookbook: Chapter 12 (12.1. Plotting the bifurcation diagram of a chaotic dynamical system)](https://ipython-books.github.io/121-plotting-the-bifurcation-diagram-of-a-chaotic-dynamical-system/)  \n",
    "\n",
    "[Chaos Theory and the Logistic Map](https://geoffboeing.com/2015/03/chaos-theory-logistic-map/) \n",
    "\n",
    "[Mathematical methods in populationa dynamics](http://gi.ics.nara-wu.ac.jp/~takasu/lecture/graduate-20.html)  \n",
    "\n",
    "[Hiding code in presentation mode](https://stackoverflow.com/questions/27934885/how-to-hide-code-from-cells-in-ipython-notebook-visualized-with-nbviewer)  \n",
    "\n",
    "[Hiding code in presentatin mode-V2](https://chris-said.io/2016/02/13/how-to-make-polished-jupyter-presentations-with-optional-code-visibility/)  \n",
    "\n",
    "[Presenting Notebooks](https://www.youtube.com/watch?v=utNl9f3gqYQ)  "
   ]
  },
  {
   "cell_type": "code",
   "execution_count": null,
   "metadata": {},
   "outputs": [],
   "source": []
  }
 ],
 "metadata": {
  "celltoolbar": "Slideshow",
  "kernelspec": {
   "display_name": "Python 3",
   "language": "python",
   "name": "python3"
  },
  "language_info": {
   "codemirror_mode": {
    "name": "ipython",
    "version": 3
   },
   "file_extension": ".py",
   "mimetype": "text/x-python",
   "name": "python",
   "nbconvert_exporter": "python",
   "pygments_lexer": "ipython3",
   "version": "3.7.4"
  }
 },
 "nbformat": 4,
 "nbformat_minor": 4
}
